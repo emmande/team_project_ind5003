{
 "cells": [
  {
   "cell_type": "code",
   "execution_count": 6,
   "id": "916ba6b6-710b-4740-8e8a-a0c7d6f816cb",
   "metadata": {},
   "outputs": [],
   "source": [
    "# Import necessary libraries\n",
    "import numpy as np\n",
    "import pandas as pd\n",
    "import requests, zipfile\n",
    "import datetime as dt\n",
    "\n",
    "from pathlib import Path\n",
    "\n",
    "import ipywidgets as widgets\n",
    "from IPython.display import display"
   ]
  },
  {
   "cell_type": "markdown",
   "id": "87e23d1a-1c86-4747-9e08-7ea7a47ccdc0",
   "metadata": {},
   "source": [
    "The [rain areas section](https://www.nea.gov.sg/weather/rain-areas) of the NEA website of Singapore provides radar scans at 5-minute intervals. Here is an example of the rain areas at a 240km radius around Singapore at 2024-08-24 21:30:00 :\n",
    "\n",
    "![rain areas](figs/dpsri_240km_2024082421300000dBR.dpsri.png)\n",
    "\n",
    "With a little guesswork, it is possible to figure out the path to which NEA stores the raw images. The code and the widgets below will download images at 70km and 240km distances and store them in a zip file.\n",
    "\n",
    "Note that not **all** timestamps are available for download."
   ]
  },
  {
   "cell_type": "code",
   "execution_count": 7,
   "id": "8d180fc8-1ac9-48ef-ab18-8299a97e804e",
   "metadata": {},
   "outputs": [],
   "source": [
    "# Function to adjust the start time to the nearest 5-minute mark\n",
    "def adjust_to_five_minute_mark(dt_obj):\n",
    "    # Round up to the nearest 5 minutes\n",
    "    if dt_obj.minute % 5 != 0 or dt_obj.second != 0:\n",
    "        delta_minutes = 5 - (dt_obj.minute % 5)\n",
    "        dt_obj += dt.timedelta(minutes=delta_minutes)\n",
    "        dt_obj = dt_obj.replace(second=0, microsecond=0)\n",
    "    return dt_obj\n",
    "\n",
    "# Function to generate the sequence of strings\n",
    "def generate_sequence(start_date, start_time, end_date, end_time):\n",
    "    # Parse start and end datetime objects\n",
    "    start_datetime = dt.datetime.combine(start_date, dt.datetime.strptime(start_time, '%H:%M:%S').time())\n",
    "    end_datetime = dt.datetime.combine(end_date, dt.datetime.strptime(end_time, '%H:%M:%S').time())\n",
    "\n",
    "    # Adjust the start time to the nearest 5-minute mark\n",
    "    start_datetime = adjust_to_five_minute_mark(start_datetime)\n",
    "\n",
    "    # Generate the timestamps with 5-minute intervals\n",
    "    timestamps = pd.date_range(start=start_datetime, end=end_datetime, freq='5min')\n",
    "\n",
    "    # Convert each timestamp to the desired string format\n",
    "    formatted_strings = [timestamp.strftime('%Y%m%d%H%M') + '0000' for timestamp in timestamps]\n",
    "\n",
    "    return formatted_strings\n"
   ]
  },
  {
   "cell_type": "code",
   "execution_count": 8,
   "id": "16050224-7193-4309-8638-e1fde3ee9722",
   "metadata": {},
   "outputs": [],
   "source": [
    "url70 = ['https://www.nea.gov.sg/docs/default-source/rain-area/dpsri_70km_', \n",
    "        '202112270530', 'dBR.dpsri.png']\n",
    "url240 = ['https://www.nea.gov.sg/docs/default-source/rain-area-240km/dpsri_240km_', \n",
    "        '202112250810','dBR.dpsri.png']\n",
    "\n",
    "# function to run through the list of timestamps, download the images and \n",
    "# save them to a zipfile.\n",
    "def get_images(timestamp_list, outzipfile):\n",
    "    for url_list in (url70, url240):\n",
    "        for datetime_str in timestamp_list:\n",
    "            full_url = ''.join([url_list[0], datetime_str, url_list[2]])\n",
    "            try: \n",
    "                r1 = requests.get(full_url)\n",
    "                if r1.status_code == 200:\n",
    "                    print(f'success for {datetime_str}.')\n",
    "                    fname = Path(full_url).stem + '.png'\n",
    "                    with open(fname, 'wb') as f:\n",
    "                        f.write(r1.content)\n",
    "                        print(f'{fname} written..')\n",
    "                    \n",
    "                    with zipfile.ZipFile(file=outzipfile, mode='a', compression=zipfile.ZIP_DEFLATED) as ff:\n",
    "                        ff.write(fname)\n",
    "                        Path(fname).unlink()\n",
    "                else:\n",
    "                    print(f'failure for {full_url}!')\n",
    "            except Exception as e:\n",
    "                print(f\"An error occurred for {datetime_str}: {e}\")\n",
    "    print(f\"zipfile {outzipfile} written.\")"
   ]
  },
  {
   "cell_type": "code",
   "execution_count": 9,
   "id": "bb133495-1219-4a62-b57d-4e350d91d9ef",
   "metadata": {},
   "outputs": [
    {
     "data": {
      "application/vnd.jupyter.widget-view+json": {
       "model_id": "682762a983ef41ae8f5c93392636d9ed",
       "version_major": 2,
       "version_minor": 0
      },
      "text/plain": [
       "VBox(children=(HBox(children=(DatePicker(value=None, description='Start Date', step=1), Text(value='11:00:00',…"
      ]
     },
     "metadata": {},
     "output_type": "display_data"
    },
    {
     "data": {
      "application/vnd.jupyter.widget-view+json": {
       "model_id": "db4e8b05b80c4ba0abf752ca085060c7",
       "version_major": 2,
       "version_minor": 0
      },
      "text/plain": [
       "Button(description='Download radar images', layout=Layout(height='50px', width='200px'), style=ButtonStyle())"
      ]
     },
     "metadata": {},
     "output_type": "display_data"
    },
    {
     "data": {
      "application/vnd.jupyter.widget-view+json": {
       "model_id": "7607669f672b4d8eb5e73a67db1e97d7",
       "version_major": 2,
       "version_minor": 0
      },
      "text/plain": [
       "Output()"
      ]
     },
     "metadata": {},
     "output_type": "display_data"
    }
   ],
   "source": [
    "# Date picker widgets for selecting start and end dates\n",
    "start_date_picker = widgets.DatePicker(\n",
    "    description='Start Date',\n",
    "    disabled=False\n",
    ")\n",
    "start_time_picker = widgets.Text(\n",
    "    value='11:00:00',\n",
    "    placeholder='HH:MM:SS',\n",
    "    description='Start Time',\n",
    "    disabled=False\n",
    ")\n",
    "\n",
    "end_date_picker = widgets.DatePicker(\n",
    "    description='End Date',\n",
    "    disabled=False\n",
    ")\n",
    "end_time_picker = widgets.Text(\n",
    "    value='11:10:00',\n",
    "    placeholder='HH:MM:SS',\n",
    "    description='End Time',\n",
    "    disabled=False\n",
    ")\n",
    "\n",
    "# Display widgets\n",
    "#display(start_date_picker, start_time_picker, end_date_picker, end_time_picker)\n",
    "display(widgets.VBox( [widgets.HBox([start_date_picker, start_time_picker]),\n",
    "                       widgets.HBox([end_date_picker, end_time_picker])]))\n",
    "\n",
    "# Button to generate the sequence\n",
    "generate_button = widgets.Button(description=\"Download radar images\",\n",
    "                                 layout=widgets.Layout(width='200px', height='50px'))\n",
    "\n",
    "# Output area to display results\n",
    "output = widgets.Output()\n",
    "\n",
    "# Button click event handler\n",
    "def on_button_click(b):\n",
    "    with output:\n",
    "        output.clear_output()\n",
    "        # Generate and display the sequence of strings\n",
    "        sequence = generate_sequence(start_date_picker.value, start_time_picker.value, end_date_picker.value, end_time_picker.value)\n",
    "        get_images(sequence, 'outfile.zip')\n",
    "        #for item in sequence:\n",
    "        #    print(item)\n",
    "\n",
    "# Assign the click event handler to the button\n",
    "generate_button.on_click(on_button_click)\n",
    "\n",
    "# Display the button and output area\n",
    "display(generate_button, output)"
   ]
  },
  {
   "cell_type": "code",
   "execution_count": null,
   "id": "00d4cd5b-870c-45fa-ba24-52e97de28fea",
   "metadata": {},
   "outputs": [],
   "source": []
  }
 ],
 "metadata": {
  "kernelspec": {
   "display_name": "Python 3 (ipykernel)",
   "language": "python",
   "name": "python3"
  },
  "language_info": {
   "codemirror_mode": {
    "name": "ipython",
    "version": 3
   },
   "file_extension": ".py",
   "mimetype": "text/x-python",
   "name": "python",
   "nbconvert_exporter": "python",
   "pygments_lexer": "ipython3",
   "version": "3.10.11"
  }
 },
 "nbformat": 4,
 "nbformat_minor": 5
}
